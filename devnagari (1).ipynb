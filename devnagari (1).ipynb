{
  "nbformat": 4,
  "nbformat_minor": 0,
  "metadata": {
    "colab": {
      "name": "devnagari.ipynb",
      "version": "0.3.2",
      "provenance": [],
      "collapsed_sections": []
    },
    "kernelspec": {
      "name": "python3",
      "display_name": "Python 3"
    },
    "accelerator": "GPU"
  },
  "cells": [
    {
      "metadata": {
        "id": "rBbDS7U9OLqr",
        "colab_type": "code",
        "outputId": "4fc06415-af91-4a04-d8c0-7c139e3ee900",
        "colab": {
          "base_uri": "https://localhost:8080/",
          "height": 128
        }
      },
      "cell_type": "code",
      "source": [
        "# importing drive for extracting or storing data in drive\n",
        "from google.colab import drive\n",
        "drive.mount('/content/drive/')"
      ],
      "execution_count": 1,
      "outputs": [
        {
          "output_type": "stream",
          "text": [
            "Go to this URL in a browser: https://accounts.google.com/o/oauth2/auth?client_id=947318989803-6bn6qk8qdgf4n4g3pfee6491hc0brc4i.apps.googleusercontent.com&redirect_uri=urn%3Aietf%3Awg%3Aoauth%3A2.0%3Aoob&scope=email%20https%3A%2F%2Fwww.googleapis.com%2Fauth%2Fdocs.test%20https%3A%2F%2Fwww.googleapis.com%2Fauth%2Fdrive%20https%3A%2F%2Fwww.googleapis.com%2Fauth%2Fdrive.photos.readonly%20https%3A%2F%2Fwww.googleapis.com%2Fauth%2Fpeopleapi.readonly&response_type=code\n",
            "\n",
            "Enter your authorization code:\n",
            "··········\n",
            "Mounted at /content/drive/\n"
          ],
          "name": "stdout"
        }
      ]
    },
    {
      "metadata": {
        "id": "oCVP1t5rYkOT",
        "colab_type": "code",
        "outputId": "f4cc5a9f-1b76-4de5-8984-5c3c389fbdaf",
        "colab": {
          "base_uri": "https://localhost:8080/",
          "height": 34
        }
      },
      "cell_type": "code",
      "source": [
        "# importing tensorflowjs\n",
        "import tensorflowjs as tfjs"
      ],
      "execution_count": 0,
      "outputs": [
        {
          "output_type": "stream",
          "text": [
            "Using TensorFlow backend.\n"
          ],
          "name": "stderr"
        }
      ]
    },
    {
      "metadata": {
        "id": "V-Os-wWD073h",
        "colab_type": "code",
        "colab": {}
      },
      "cell_type": "code",
      "source": [
        "#importing load model\n",
        "from keras.models import load_model"
      ],
      "execution_count": 0,
      "outputs": []
    },
    {
      "metadata": {
        "id": "71FokBs_1EPf",
        "colab_type": "code",
        "colab": {}
      },
      "cell_type": "code",
      "source": [
        ""
      ],
      "execution_count": 0,
      "outputs": []
    },
    {
      "metadata": {
        "id": "DqdVF-lwOc7b",
        "colab_type": "code",
        "colab": {}
      },
      "cell_type": "code",
      "source": [
        "\"\"\"\n",
        "Reading train data from dataset.hdf5 file and assign them into x & y numpy arrays which can are used for training the model\n",
        "\n",
        "\"\"\"\n",
        "import h5py\n",
        "import numpy as np\n",
        "x_train = np.ndarray(shape=(78200,32,32,3)) # declaring numpy arrays\n",
        "y_train = np.ndarray(shape=(78200,1))\n",
        "with h5py.File('/content/drive/My Drive/devnagari/dataset.hdf5', 'r') as hdf5_file: # reading from file\n",
        "    for i in range(0,78200):\n",
        "        X_Train = hdf5_file['X_train'+str(i)]                      # asssign to numpy arrays\n",
        "        x_train[i] = X_Train[:]\n",
        "        y_labels = hdf5_file['y_train'+str(i)]\n",
        "        y_train[i] = y_labels[:]"
      ],
      "execution_count": 0,
      "outputs": []
    },
    {
      "metadata": {
        "id": "ZQiLa5F0P6hH",
        "colab_type": "code",
        "colab": {}
      },
      "cell_type": "code",
      "source": [
        "\"\"\"\n",
        "Reading train data from datasettest.hdf5 file and assign them into x & y numpy arrays which can are used for validating the model\n",
        "\"\"\"\n",
        "x_test = np.ndarray(shape=(13800,32,32,3))\n",
        "y_test = np.ndarray(shape=(13800,1))\n",
        "with h5py.File('/content/drive/My Drive/devnagari/datasettest.hdf5', 'r') as hdf5_file: # reading the file\n",
        "    for i in range(0,13800):\n",
        "        X_Train = hdf5_file['X_train'+str(i)]              # asssign to numpy arrays\n",
        "        x_test[i] = X_Train[:]\n",
        "        y_labels = hdf5_file['y_train'+str(i)]\n",
        "        y_test[i] = y_labels[:]"
      ],
      "execution_count": 0,
      "outputs": []
    },
    {
      "metadata": {
        "id": "QpFHM09LEs9d",
        "colab_type": "code",
        "outputId": "c346d74c-c9d8-4ae2-dc6d-866e0bb88ebd",
        "colab": {
          "base_uri": "https://localhost:8080/",
          "height": 35
        }
      },
      "cell_type": "code",
      "source": [
        "# verifiying the shape of train and test data in numpy arrays\n",
        "x_test.shape,y_test.shape,x_train.shape,y_train.shape"
      ],
      "execution_count": 4,
      "outputs": [
        {
          "output_type": "execute_result",
          "data": {
            "text/plain": [
              "((13800, 32, 32, 3), (13800, 1), (78200, 32, 32, 3), (78200, 1))"
            ]
          },
          "metadata": {
            "tags": []
          },
          "execution_count": 4
        }
      ]
    },
    {
      "metadata": {
        "id": "gb1UG2LcF36N",
        "colab_type": "code",
        "outputId": "c8983850-e56d-45fa-e72f-d895b54cd05d",
        "colab": {
          "base_uri": "https://localhost:8080/",
          "height": 145
        }
      },
      "cell_type": "code",
      "source": [
        "\"\"\"\n",
        "Visualizing images with their Class Names\n",
        "\n",
        "\"\"\"\n",
        "%matplotlib inline\n",
        "import matplotlib.pyplot as plt      # importing matplotlib libs\n",
        "cols = 8\n",
        "rows = 1\n",
        "fig = plt.figure(figsize=(2 * cols - 1, 2.5 * rows - 1))  # setting figsize\n",
        "for i in range(cols):\n",
        "    for j in range(rows):\n",
        "        random_index = np.random.randint(0, 13800)       # getting random images index from test data\n",
        "        ax = fig.add_subplot(rows, cols, i * rows + j + 1)\n",
        "        ax.grid('off')\n",
        "        ax.axis('off')\n",
        "        ax.imshow(x_test[random_index])                 #plottting images\n",
        "        ax.set_title(y_test[random_index])                          # plotting title\n",
        "plt.show()"
      ],
      "execution_count": 5,
      "outputs": [
        {
          "output_type": "display_data",
          "data": {
            "image/png": "[encoded data removed]",
            "text/plain": [
              "<matplotlib.figure.Figure at 0x7f6ec2b895c0>"
            ]
          },
          "metadata": {
            "tags": []
          }
        }
      ]
    },
    {
      "metadata": {
        "id": "FO7E9LXXGEY5",
        "colab_type": "code",
        "colab": {}
      },
      "cell_type": "code",
      "source": [
        "\n",
        "# normalize inputs arrays\n",
        "x_train2 = x_train/255-0.5\n",
        "x_test2 = x_test/255-0.5"
      ],
      "execution_count": 0,
      "outputs": []
    },
    {
      "metadata": {
        "id": "EBixe4LZGRj9",
        "colab_type": "code",
        "colab": {}
      },
      "cell_type": "code",
      "source": [
        "# converting Class Names into integers\n",
        "y_train=y_train.astype(int)\n",
        "y_test = y_test.astype(int)"
      ],
      "execution_count": 0,
      "outputs": []
    },
    {
      "metadata": {
        "id": "hcCtlVtCGYmI",
        "colab_type": "code",
        "colab": {}
      },
      "cell_type": "code",
      "source": [
        "# one-hot encoding the Class-Names\n",
        "No_class = 47\n",
        "y_train2 = np.eye(No_class)[(y_train[:,0])]\n",
        "y_test2 = np.eye(No_class)[(y_test[:,0])]"
      ],
      "execution_count": 0,
      "outputs": []
    },
    {
      "metadata": {
        "id": "RV6GaOyXGevZ",
        "colab_type": "code",
        "outputId": "80ff9cb4-2a64-4a2f-b478-6bd5e3875fb6",
        "colab": {
          "base_uri": "https://localhost:8080/",
          "height": 35
        }
      },
      "cell_type": "code",
      "source": [
        "# verifying the sizes\n",
        "y_train2.shape,x_train2.shape"
      ],
      "execution_count": 9,
      "outputs": [
        {
          "output_type": "execute_result",
          "data": {
            "text/plain": [
              "((78200, 47), (78200, 32, 32, 3))"
            ]
          },
          "metadata": {
            "tags": []
          },
          "execution_count": 9
        }
      ]
    },
    {
      "metadata": {
        "id": "ayOr4pRjMUOy",
        "colab_type": "code",
        "colab": {}
      },
      "cell_type": "code",
      "source": [
        ""
      ],
      "execution_count": 0,
      "outputs": []
    },
    {
      "metadata": {
        "id": "jR47WaSfIHwR",
        "colab_type": "code",
        "colab": {
          "base_uri": "https://localhost:8080/",
          "height": 35
        },
        "outputId": "47c92dd6-de3a-489e-c4eb-ce3e99c83372"
      },
      "cell_type": "code",
      "source": [
        "# import necessary building blocks\n",
        "from keras.models import Sequential\n",
        "from keras.layers import Conv2D, MaxPooling2D, Flatten, Dense, Activation, Dropout\n",
        "from keras.layers.advanced_activations import LeakyReLU"
      ],
      "execution_count": 10,
      "outputs": [
        {
          "output_type": "stream",
          "text": [
            "Using TensorFlow backend.\n"
          ],
          "name": "stderr"
        }
      ]
    },
    {
      "metadata": {
        "id": "AYyjlO47Icis",
        "colab_type": "code",
        "colab": {}
      },
      "cell_type": "code",
      "source": [
        "# defining function of model\n",
        "def basic_model():\n",
        "    \n",
        "    model = Sequential()\n",
        "\n",
        "    model.add(Conv2D(16, (3, 3), input_shape=(32,32,3), padding=\"same\"))\n",
        "    model.add(LeakyReLU(0.1))\n",
        "    model.add(Conv2D(32, (3, 3), padding=\"same\"))\n",
        "    model.add(LeakyReLU(0.1))\n",
        "    model.add(MaxPooling2D(pool_size=(2, 2)))\n",
        "    model.add(Dropout(0.25))\n",
        "    model.add(Conv2D(32, (3, 3), padding=\"same\"))\n",
        "    model.add(LeakyReLU(0.1))\n",
        "    model.add(Conv2D(64, (3, 3), padding=\"same\"))\n",
        "    model.add(LeakyReLU(0.1))\n",
        "    model.add(MaxPooling2D(pool_size=(2, 2)))\n",
        "    model.add(Dropout(0.25))\n",
        "\n",
        "    model.add(Flatten())\n",
        "    model.add(Dense(256))\n",
        "    model.add(LeakyReLU(0.1))\n",
        "    model.add(Dropout(0.5))\n",
        "    model.add(Dense(47))\n",
        "    model.add(Activation(\"softmax\"))\n",
        "    \n",
        "    return model"
      ],
      "execution_count": 0,
      "outputs": []
    },
    {
      "metadata": {
        "id": "5WDBbeTDLbbg",
        "colab_type": "code",
        "colab": {}
      },
      "cell_type": "code",
      "source": [
        "import tensorflow as tf\n",
        "import keras\n",
        "from keras import backend as K"
      ],
      "execution_count": 0,
      "outputs": []
    },
    {
      "metadata": {
        "id": "MW-hfypbKyFG",
        "colab_type": "code",
        "outputId": "9e17ce68-f564-4454-e45d-3964ffeefccf",
        "colab": {
          "base_uri": "https://localhost:8080/",
          "height": 799
        }
      },
      "cell_type": "code",
      "source": [
        "K.clear_session()  # clear default graph\n",
        "model = basic_model()\n",
        "model.summary()    # summary of the model"
      ],
      "execution_count": 13,
      "outputs": [
        {
          "output_type": "stream",
          "text": [
            "_________________________________________________________________\n",
            "Layer (type)                 Output Shape              Param #   \n",
            "=================================================================\n",
            "conv2d_1 (Conv2D)            (None, 32, 32, 16)        448       \n",
            "_________________________________________________________________\n",
            "leaky_re_lu_1 (LeakyReLU)    (None, 32, 32, 16)        0         \n",
            "_________________________________________________________________\n",
            "conv2d_2 (Conv2D)            (None, 32, 32, 32)        4640      \n",
            "_________________________________________________________________\n",
            "leaky_re_lu_2 (LeakyReLU)    (None, 32, 32, 32)        0         \n",
            "_________________________________________________________________\n",
            "max_pooling2d_1 (MaxPooling2 (None, 16, 16, 32)        0         \n",
            "_________________________________________________________________\n",
            "dropout_1 (Dropout)          (None, 16, 16, 32)        0         \n",
            "_________________________________________________________________\n",
            "conv2d_3 (Conv2D)            (None, 16, 16, 32)        9248      \n",
            "_________________________________________________________________\n",
            "leaky_re_lu_3 (LeakyReLU)    (None, 16, 16, 32)        0         \n",
            "_________________________________________________________________\n",
            "conv2d_4 (Conv2D)            (None, 16, 16, 64)        18496     \n",
            "_________________________________________________________________\n",
            "leaky_re_lu_4 (LeakyReLU)    (None, 16, 16, 64)        0         \n",
            "_________________________________________________________________\n",
            "max_pooling2d_2 (MaxPooling2 (None, 8, 8, 64)          0         \n",
            "_________________________________________________________________\n",
            "dropout_2 (Dropout)          (None, 8, 8, 64)          0         \n",
            "_________________________________________________________________\n",
            "flatten_1 (Flatten)          (None, 4096)              0         \n",
            "_________________________________________________________________\n",
            "dense_1 (Dense)              (None, 256)               1048832   \n",
            "_________________________________________________________________\n",
            "leaky_re_lu_5 (LeakyReLU)    (None, 256)               0         \n",
            "_________________________________________________________________\n",
            "dropout_3 (Dropout)          (None, 256)               0         \n",
            "_________________________________________________________________\n",
            "dense_2 (Dense)              (None, 47)                12079     \n",
            "_________________________________________________________________\n",
            "activation_1 (Activation)    (None, 47)                0         \n",
            "=================================================================\n",
            "Total params: 1,093,743\n",
            "Trainable params: 1,093,743\n",
            "Non-trainable params: 0\n",
            "_________________________________________________________________\n"
          ],
          "name": "stdout"
        }
      ]
    },
    {
      "metadata": {
        "id": "BChSVEl15dB1",
        "colab_type": "code",
        "colab": {}
      },
      "cell_type": "code",
      "source": [
        "import tensorflow"
      ],
      "execution_count": 0,
      "outputs": []
    },
    {
      "metadata": {
        "id": "T4zJLu4hK5Lc",
        "colab_type": "code",
        "outputId": "e88df524-763d-486c-d54d-883ac82d8961",
        "colab": {
          "base_uri": "https://localhost:8080/",
          "height": 1417
        }
      },
      "cell_type": "code",
      "source": [
        "init_LR = 5e-3  # initial learning rate of model\n",
        "BATCH_SIZE = 25\n",
        "EPOCHS = 25\n",
        "\n",
        "K.clear_session()  # clear default graph\n",
        "\n",
        "model = basic_model()  # define our model declared above\n",
        "\n",
        "# prepare model for fitting (loss, optimizer, etc)\n",
        "model.compile(\n",
        "    loss='categorical_crossentropy',  # we train 46-way classification\n",
        "    optimizer=keras.optimizers.Adamax(lr=init_LR),  # for SGD\n",
        "    metrics=['accuracy']  # report accuracy during training\n",
        ")\n",
        "\n",
        "# scheduler of learning rate (decay with epochs)\n",
        "def lr_scheduler(epoch):\n",
        "    return init_LR * 0.9 ** epoch\n",
        "\n",
        "# callback for printing of actual learning rate used by optimizer\n",
        "class LrHistory(keras.callbacks.Callback):\n",
        "    def on_epoch_begin(self, epoch, logs={}):\n",
        "        print(\"Learning rate:\", K.get_value(model.optimizer.lr))\n",
        "\n",
        "# fit model\n",
        "model.fit(\n",
        "    x_train2, y_train2,  # prepared data\n",
        "    batch_size=BATCH_SIZE,\n",
        "    epochs=EPOCHS,\n",
        "    callbacks=[keras.callbacks.LearningRateScheduler(lr_scheduler), LrHistory()],\n",
        "    validation_data=(x_test2, y_test2),\n",
        "    shuffle=True,\n",
        ")"
      ],
      "execution_count": 15,
      "outputs": [
        {
          "output_type": "stream",
          "text": [
            "Train on 78200 samples, validate on 13800 samples\n",
            "Epoch 1/25\n",
            "Learning rate: 0.005\n",
            "78200/78200 [==============================] - 47s 606us/step - loss: 0.5389 - acc: 0.8453 - val_loss: 0.1074 - val_acc: 0.9673\n",
            "Epoch 2/25\n",
            "Learning rate: 0.0045\n",
            "78200/78200 [==============================] - 43s 547us/step - loss: 0.1610 - acc: 0.9503 - val_loss: 0.0642 - val_acc: 0.9811\n",
            "Epoch 3/25\n",
            "Learning rate: 0.00405\n",
            "78200/78200 [==============================] - 43s 547us/step - loss: 0.1131 - acc: 0.9653 - val_loss: 0.0537 - val_acc: 0.9843\n",
            "Epoch 4/25\n",
            "Learning rate: 0.003645\n",
            "78200/78200 [==============================] - 43s 544us/step - loss: 0.0882 - acc: 0.9731 - val_loss: 0.0511 - val_acc: 0.9853\n",
            "Epoch 5/25\n",
            "Learning rate: 0.0032805\n",
            "78200/78200 [==============================] - 43s 545us/step - loss: 0.0706 - acc: 0.9784 - val_loss: 0.0438 - val_acc: 0.9870\n",
            "Epoch 6/25\n",
            "Learning rate: 0.00295245\n",
            "78200/78200 [==============================] - 43s 547us/step - loss: 0.0636 - acc: 0.9804 - val_loss: 0.0398 - val_acc: 0.9881\n",
            "Epoch 7/25\n",
            "Learning rate: 0.002657205\n",
            "78200/78200 [==============================] - 43s 546us/step - loss: 0.0510 - acc: 0.9844 - val_loss: 0.0427 - val_acc: 0.9875\n",
            "Epoch 8/25\n",
            "Learning rate: 0.0023914846\n",
            "78200/78200 [==============================] - 43s 548us/step - loss: 0.0447 - acc: 0.9859 - val_loss: 0.0375 - val_acc: 0.9908\n",
            "Epoch 9/25\n",
            "Learning rate: 0.002152336\n",
            "78200/78200 [==============================] - 43s 547us/step - loss: 0.0386 - acc: 0.9878 - val_loss: 0.0407 - val_acc: 0.9891\n",
            "Epoch 10/25\n",
            "Learning rate: 0.0019371024\n",
            "78200/78200 [==============================] - 43s 546us/step - loss: 0.0349 - acc: 0.9893 - val_loss: 0.0383 - val_acc: 0.9888\n",
            "Epoch 11/25\n",
            "Learning rate: 0.0017433922\n",
            "78200/78200 [==============================] - 43s 546us/step - loss: 0.0334 - acc: 0.9897 - val_loss: 0.0362 - val_acc: 0.9912\n",
            "Epoch 12/25\n",
            "Learning rate: 0.0015690529\n",
            "78200/78200 [==============================] - 43s 544us/step - loss: 0.0283 - acc: 0.9912 - val_loss: 0.0396 - val_acc: 0.9895\n",
            "Epoch 13/25\n",
            "Learning rate: 0.0014121477\n",
            "78200/78200 [==============================] - 43s 546us/step - loss: 0.0259 - acc: 0.9920 - val_loss: 0.0389 - val_acc: 0.9905\n",
            "Epoch 14/25\n",
            "Learning rate: 0.001270933\n",
            "78200/78200 [==============================] - 43s 545us/step - loss: 0.0232 - acc: 0.9927 - val_loss: 0.0349 - val_acc: 0.9917\n",
            "Epoch 15/25\n",
            "Learning rate: 0.0011438397\n",
            "78200/78200 [==============================] - 43s 548us/step - loss: 0.0234 - acc: 0.9924 - val_loss: 0.0332 - val_acc: 0.9921\n",
            "Epoch 16/25\n",
            "Learning rate: 0.0010294557\n",
            "78200/78200 [==============================] - 43s 547us/step - loss: 0.0222 - acc: 0.9931 - val_loss: 0.0367 - val_acc: 0.9920\n",
            "Epoch 17/25\n",
            "Learning rate: 0.0009265101\n",
            "78200/78200 [==============================] - 43s 544us/step - loss: 0.0197 - acc: 0.9940 - val_loss: 0.0383 - val_acc: 0.9916\n",
            "Epoch 18/25\n",
            "Learning rate: 0.0008338591\n",
            "78200/78200 [==============================] - 42s 543us/step - loss: 0.0192 - acc: 0.9938 - val_loss: 0.0347 - val_acc: 0.9921\n",
            "Epoch 19/25\n",
            "Learning rate: 0.0007504732\n",
            "78200/78200 [==============================] - 42s 538us/step - loss: 0.0180 - acc: 0.9943 - val_loss: 0.0324 - val_acc: 0.9924\n",
            "Epoch 20/25\n",
            "Learning rate: 0.00067542586\n",
            "78200/78200 [==============================] - 42s 538us/step - loss: 0.0177 - acc: 0.9947 - val_loss: 0.0359 - val_acc: 0.9917\n",
            "Epoch 21/25\n",
            "Learning rate: 0.00060788327\n",
            "78200/78200 [==============================] - 42s 538us/step - loss: 0.0153 - acc: 0.9951 - val_loss: 0.0341 - val_acc: 0.9923\n",
            "Epoch 22/25\n",
            "Learning rate: 0.00054709497\n",
            "78200/78200 [==============================] - 42s 534us/step - loss: 0.0152 - acc: 0.9953 - val_loss: 0.0327 - val_acc: 0.9923\n",
            "Epoch 23/25\n",
            "Learning rate: 0.0004923855\n",
            "78200/78200 [==============================] - 42s 532us/step - loss: 0.0146 - acc: 0.9954 - val_loss: 0.0358 - val_acc: 0.9917\n",
            "Epoch 24/25\n",
            "Learning rate: 0.0004431469\n",
            "78200/78200 [==============================] - 41s 521us/step - loss: 0.0140 - acc: 0.9956 - val_loss: 0.0333 - val_acc: 0.9920\n",
            "Epoch 25/25\n",
            "Learning rate: 0.00039883223\n",
            "78200/78200 [==============================] - 40s 518us/step - loss: 0.0138 - acc: 0.9956 - val_loss: 0.0353 - val_acc: 0.9921\n"
          ],
          "name": "stdout"
        },
        {
          "output_type": "execute_result",
          "data": {
            "text/plain": [
              "<keras.callbacks.History at 0x7f6e6ea84048>"
            ]
          },
          "metadata": {
            "tags": []
          },
          "execution_count": 15
        }
      ]
    },
    {
      "metadata": {
        "id": "KsPUCy8KMDXV",
        "colab_type": "code",
        "colab": {}
      },
      "cell_type": "code",
      "source": [
        "# saving model weights\n",
        "model.save_weights('/content/drive/My Drive/devnagari/weights1.h5')"
      ],
      "execution_count": 0,
      "outputs": []
    },
    {
      "metadata": {
        "id": "G9-BJWApP9eX",
        "colab_type": "code",
        "colab": {}
      },
      "cell_type": "code",
      "source": [
        "# Validating the model using sklearn metrices\n",
        "y_pred_test = model.predict_proba(x_test2)\n",
        "y_pred_test_classes = np.argmax(y_pred_test, axis=1)\n",
        "y_pred_test_max_probas = np.max(y_pred_test, axis=1)\n",
        "from sklearn.metrics import confusion_matrix, accuracy_score\n",
        "acc = accuracy_score(y_test, y_pred_test_classes)"
      ],
      "execution_count": 0,
      "outputs": []
    },
    {
      "metadata": {
        "id": "3IueKut6Qc_U",
        "colab_type": "code",
        "outputId": "a5701112-0d63-4143-cdda-a83b68f2007a",
        "colab": {
          "base_uri": "https://localhost:8080/",
          "height": 35
        }
      },
      "cell_type": "code",
      "source": [
        "acc"
      ],
      "execution_count": 17,
      "outputs": [
        {
          "output_type": "execute_result",
          "data": {
            "text/plain": [
              "0.9921014492753624"
            ]
          },
          "metadata": {
            "tags": []
          },
          "execution_count": 17
        }
      ]
    },
    {
      "metadata": {
        "id": "HFwJONE4TBB9",
        "colab_type": "code",
        "colab": {}
      },
      "cell_type": "code",
      "source": [
        ""
      ],
      "execution_count": 0,
      "outputs": []
    },
    {
      "metadata": {
        "id": "OGVhq5OIQMlT",
        "colab_type": "code",
        "colab": {}
      },
      "cell_type": "code",
      "source": [
        "\n",
        "\n"
      ],
      "execution_count": 0,
      "outputs": []
    },
    {
      "metadata": {
        "id": "nHo_gF37uxwu",
        "colab_type": "code",
        "outputId": "2a99bff0-2316-4684-e91a-4095960b5659",
        "colab": {
          "base_uri": "https://localhost:8080/",
          "height": 921
        }
      },
      "cell_type": "code",
      "source": [
        ""
      ],
      "execution_count": 0,
      "outputs": [
        {
          "output_type": "stream",
          "text": [
            "Collecting tensorflowjs\n",
            "  Downloading https://files.pythonhosted.org/packages/2b/32/40c32ed333f0276c4bfdd5e90ba8359c4734c141e46ff8a92193128adcb4/tensorflowjs-0.6.5-py3-none-any.whl\n",
            "Requirement already satisfied: tensorflow-hub==0.1.1 in /usr/local/lib/python3.6/dist-packages (from tensorflowjs) (0.1.1)\n",
            "Collecting tensorflow==1.11.0 (from tensorflowjs)\n",
            "\u001b[?25l  Downloading https://files.pythonhosted.org/packages/ce/d5/38cd4543401708e64c9ee6afa664b936860f4630dd93a49ab863f9998cd2/tensorflow-1.11.0-cp36-cp36m-manylinux1_x86_64.whl (63.0MB)\n",
            "\u001b[K    100% |████████████████████████████████| 63.0MB 406kB/s \n",
            "\u001b[?25hCollecting numpy==1.15.1 (from tensorflowjs)\n",
            "\u001b[?25l  Downloading https://files.pythonhosted.org/packages/fe/94/7049fed8373c52839c8cde619acaf2c9b83082b935e5aa8c0fa27a4a8bcc/numpy-1.15.1-cp36-cp36m-manylinux1_x86_64.whl (13.9MB)\n",
            "\u001b[K    100% |████████████████████████████████| 13.9MB 3.4MB/s \n",
            "\u001b[?25hRequirement already satisfied: six==1.11.0 in /usr/local/lib/python3.6/dist-packages (from tensorflowjs) (1.11.0)\n",
            "Requirement already satisfied: h5py==2.8.0 in /usr/local/lib/python3.6/dist-packages (from tensorflowjs) (2.8.0)\n",
            "Collecting keras==2.2.2 (from tensorflowjs)\n",
            "\u001b[?25l  Downloading https://files.pythonhosted.org/packages/34/7d/b1dedde8af99bd82f20ed7e9697aac0597de3049b1f786aa2aac3b9bd4da/Keras-2.2.2-py2.py3-none-any.whl (299kB)\n",
            "\u001b[K    100% |████████████████████████████████| 307kB 18.1MB/s \n",
            "\u001b[?25hRequirement already satisfied: protobuf>=3.4.0 in /usr/local/lib/python3.6/dist-packages (from tensorflow-hub==0.1.1->tensorflowjs) (3.6.1)\n",
            "Requirement already satisfied: keras-applications>=1.0.5 in /usr/local/lib/python3.6/dist-packages (from tensorflow==1.11.0->tensorflowjs) (1.0.6)\n",
            "Collecting tensorboard<1.12.0,>=1.11.0 (from tensorflow==1.11.0->tensorflowjs)\n",
            "\u001b[?25l  Downloading https://files.pythonhosted.org/packages/9b/2f/4d788919b1feef04624d63ed6ea45a49d1d1c834199ec50716edb5d310f4/tensorboard-1.11.0-py3-none-any.whl (3.0MB)\n",
            "\u001b[K    100% |████████████████████████████████| 3.0MB 9.6MB/s \n",
            "\u001b[?25hRequirement already satisfied: gast>=0.2.0 in /usr/local/lib/python3.6/dist-packages (from tensorflow==1.11.0->tensorflowjs) (0.2.0)\n",
            "Requirement already satisfied: keras-preprocessing>=1.0.3 in /usr/local/lib/python3.6/dist-packages (from tensorflow==1.11.0->tensorflowjs) (1.0.5)\n",
            "Requirement already satisfied: absl-py>=0.1.6 in /usr/local/lib/python3.6/dist-packages (from tensorflow==1.11.0->tensorflowjs) (0.6.1)\n",
            "Requirement already satisfied: wheel>=0.26 in /usr/local/lib/python3.6/dist-packages (from tensorflow==1.11.0->tensorflowjs) (0.32.2)\n",
            "Collecting setuptools<=39.1.0 (from tensorflow==1.11.0->tensorflowjs)\n",
            "\u001b[?25l  Downloading https://files.pythonhosted.org/packages/8c/10/79282747f9169f21c053c562a0baa21815a8c7879be97abd930dbcf862e8/setuptools-39.1.0-py2.py3-none-any.whl (566kB)\n",
            "\u001b[K    100% |████████████████████████████████| 573kB 17.9MB/s \n",
            "\u001b[?25hRequirement already satisfied: termcolor>=1.1.0 in /usr/local/lib/python3.6/dist-packages (from tensorflow==1.11.0->tensorflowjs) (1.1.0)\n",
            "Requirement already satisfied: astor>=0.6.0 in /usr/local/lib/python3.6/dist-packages (from tensorflow==1.11.0->tensorflowjs) (0.7.1)\n",
            "Requirement already satisfied: grpcio>=1.8.6 in /usr/local/lib/python3.6/dist-packages (from tensorflow==1.11.0->tensorflowjs) (1.15.0)\n",
            "Requirement already satisfied: scipy>=0.14 in /usr/local/lib/python3.6/dist-packages (from keras==2.2.2->tensorflowjs) (1.1.0)\n",
            "Requirement already satisfied: pyyaml in /usr/local/lib/python3.6/dist-packages (from keras==2.2.2->tensorflowjs) (3.13)\n",
            "Requirement already satisfied: markdown>=2.6.8 in /usr/local/lib/python3.6/dist-packages (from tensorboard<1.12.0,>=1.11.0->tensorflow==1.11.0->tensorflowjs) (3.0.1)\n",
            "Requirement already satisfied: werkzeug>=0.11.10 in /usr/local/lib/python3.6/dist-packages (from tensorboard<1.12.0,>=1.11.0->tensorflow==1.11.0->tensorflowjs) (0.14.1)\n",
            "\u001b[31mkeras 2.2.2 has requirement keras-applications==1.0.4, but you'll have keras-applications 1.0.6 which is incompatible.\u001b[0m\n",
            "\u001b[31mkeras 2.2.2 has requirement keras-preprocessing==1.0.2, but you'll have keras-preprocessing 1.0.5 which is incompatible.\u001b[0m\n",
            "Installing collected packages: numpy, tensorboard, setuptools, tensorflow, keras, tensorflowjs\n",
            "  Found existing installation: numpy 1.14.6\n",
            "    Uninstalling numpy-1.14.6:\n",
            "      Successfully uninstalled numpy-1.14.6\n",
            "  Found existing installation: tensorboard 1.12.0\n",
            "    Uninstalling tensorboard-1.12.0:\n",
            "      Successfully uninstalled tensorboard-1.12.0\n",
            "  Found existing installation: setuptools 40.5.0\n",
            "    Uninstalling setuptools-40.5.0:\n",
            "      Successfully uninstalled setuptools-40.5.0\n",
            "  Found existing installation: tensorflow 1.12.0\n",
            "    Uninstalling tensorflow-1.12.0:\n",
            "      Successfully uninstalled tensorflow-1.12.0\n",
            "  Found existing installation: Keras 2.2.4\n",
            "    Uninstalling Keras-2.2.4:\n",
            "      Successfully uninstalled Keras-2.2.4\n",
            "Successfully installed keras-2.2.2 numpy-1.15.1 setuptools-39.1.0 tensorboard-1.11.0 tensorflow-1.11.0 tensorflowjs-0.6.5\n"
          ],
          "name": "stdout"
        }
      ]
    },
    {
      "metadata": {
        "id": "doZIL7HJvPIk",
        "colab_type": "code",
        "colab": {}
      },
      "cell_type": "code",
      "source": [
        "# saving the model\n",
        "from keras.models import load_model\n",
        "model.save( '/content/drive/My Drive/devnagari/my_modaldev.h5')"
      ],
      "execution_count": 0,
      "outputs": []
    },
    {
      "metadata": {
        "id": "4oPGlxqXw-fg",
        "colab_type": "code",
        "colab": {}
      },
      "cell_type": "code",
      "source": [
        "del model "
      ],
      "execution_count": 0,
      "outputs": []
    },
    {
      "metadata": {
        "id": "GuF-bvP-HVl7",
        "colab_type": "code",
        "colab": {}
      },
      "cell_type": "code",
      "source": [
        "#Converting the keras model into tesorflowjs and saving in dvng_m folder which contains the model.json file\n",
        "tfjs.converters.save_keras_model(model, '/content/drive/My Drive/devnagari/dvng_m/')"
      ],
      "execution_count": 0,
      "outputs": []
    },
    {
      "metadata": {
        "id": "rMoE2XDauBT7",
        "colab_type": "code",
        "outputId": "cdd4d54f-e060-4abc-83d3-f4a4ffe32d06",
        "colab": {
          "base_uri": "https://localhost:8080/",
          "height": 299
        }
      },
      "cell_type": "code",
      "source": [
        ""
      ],
      "execution_count": 0,
      "outputs": [
        {
          "output_type": "error",
          "ename": "ModuleNotFoundError",
          "evalue": "ignored",
          "traceback": [
            "\u001b[0;31m---------------------------------------------------------------------------\u001b[0m",
            "\u001b[0;31mModuleNotFoundError\u001b[0m                       Traceback (most recent call last)",
            "\u001b[0;32m<ipython-input-25-e91b9d5db072>\u001b[0m in \u001b[0;36m<module>\u001b[0;34m()\u001b[0m\n\u001b[0;32m----> 1\u001b[0;31m \u001b[0;32mimport\u001b[0m \u001b[0mtensorflowjs\u001b[0m \u001b[0;32mas\u001b[0m \u001b[0mtfjs\u001b[0m\u001b[0;34m\u001b[0m\u001b[0m\n\u001b[0m",
            "\u001b[0;31mModuleNotFoundError\u001b[0m: No module named 'tensorflowjs'",
            "",
            "\u001b[0;31m---------------------------------------------------------------------------\u001b[0;32m\nNOTE: If your import is failing due to a missing package, you can\nmanually install dependencies using either !pip or !apt.\n\nTo view examples of installing some common dependencies, click the\n\"Open Examples\" button below.\n\u001b[0;31m---------------------------------------------------------------------------\u001b[0m\n"
          ]
        }
      ]
    },
    {
      "metadata": {
        "id": "izjuMkoVJPyJ",
        "colab_type": "code",
        "colab": {}
      },
      "cell_type": "code",
      "source": [
        ""
      ],
      "execution_count": 0,
      "outputs": []
    },
    {
      "metadata": {
        "id": "ePoRkdZiQe4V",
        "colab_type": "code",
        "colab": {}
      },
      "cell_type": "code",
      "source": [
        "features = []\n",
        "from keras.preprocessing import image\n",
        "from keras.models import Model\n",
        "from keras.models import model_from_json\n",
        "from keras.layers import Input\n",
        "from keras.applications.inception_v3 import InceptionV3, preprocess_input\n",
        "model = InceptionV3(include_top=False, weights='imagenet', input_tensor=Input(shape=(100,100,3)))\n"
      ],
      "execution_count": 0,
      "outputs": []
    },
    {
      "metadata": {
        "id": "WMGmKQ7aKMH7",
        "colab_type": "code",
        "colab": {}
      },
      "cell_type": "code",
      "source": [
        ""
      ],
      "execution_count": 0,
      "outputs": []
    },
    {
      "metadata": {
        "id": "SXReE4-62CMA",
        "colab_type": "code",
        "outputId": "2a036308-400e-4dcc-d442-59af0d38bca3",
        "colab": {
          "base_uri": "https://localhost:8080/",
          "height": 105
        }
      },
      "cell_type": "code",
      "source": [
        "import scipy\n",
        "from scipy import misc\n",
        "import os\n",
        "#model_1 = Model(input=model.input)\n",
        "#x = np.array([scipy.misc.imresize(x_train[i], (139, 139, 3)) \n",
        "                            #for i in range(0, len(x_train))]).astype('float32')\n",
        "for i in range(0,78200): \n",
        "    x = scipy.misc.imresize(x_train[i], (100, 100, 3))\n",
        "    x1 = np.expand_dims(x, axis=0)\n",
        "    x2 = preprocess_input(x1)\n",
        "    feature = model.predict(x2)\n",
        "    flat = feature.flatten()\n",
        "    features.append(flat)"
      ],
      "execution_count": 0,
      "outputs": [
        {
          "output_type": "stream",
          "text": [
            "/usr/local/lib/python3.6/dist-packages/scipy/misc/pilutil.py:482: FutureWarning: Conversion of the second argument of issubdtype from `int` to `np.signedinteger` is deprecated. In future, it will be treated as `np.int64 == np.dtype(int).type`.\n",
            "  if issubdtype(ts, int):\n",
            "/usr/local/lib/python3.6/dist-packages/scipy/misc/pilutil.py:485: FutureWarning: Conversion of the second argument of issubdtype from `float` to `np.floating` is deprecated. In future, it will be treated as `np.float64 == np.dtype(float).type`.\n",
            "  elif issubdtype(type(size), float):\n"
          ],
          "name": "stderr"
        }
      ]
    },
    {
      "metadata": {
        "id": "8DK0mmkM6zM4",
        "colab_type": "code",
        "outputId": "263c57a0-5a56-42c9-98d4-7d5a7880150b",
        "colab": {
          "base_uri": "https://localhost:8080/",
          "height": 34
        }
      },
      "cell_type": "code",
      "source": [
        "len(features)"
      ],
      "execution_count": 0,
      "outputs": [
        {
          "output_type": "execute_result",
          "data": {
            "text/plain": [
              "78202"
            ]
          },
          "metadata": {
            "tags": []
          },
          "execution_count": 33
        }
      ]
    },
    {
      "metadata": {
        "id": "_op6IezBszfp",
        "colab_type": "code",
        "colab": {}
      },
      "cell_type": "code",
      "source": [
        "with h5py.File('/content/drive/My Drive/devnagari/dataset_train1.hdf5', 'w') as hdf5_file:\n",
        "\n",
        "     hdf5_file.create_dataset('dataset_1', data=np.array(features))"
      ],
      "execution_count": 0,
      "outputs": []
    },
    {
      "metadata": {
        "id": "0jblFY2AO7ap",
        "colab_type": "code",
        "outputId": "1392b6df-304f-4d89-c23d-16224a7cb7f6",
        "colab": {
          "base_uri": "https://localhost:8080/",
          "height": 105
        }
      },
      "cell_type": "code",
      "source": [
        "features_test = []\n",
        "for i in range(0,13800): \n",
        "    x_t = scipy.misc.imresize(x_test[i], (100, 100, 3))\n",
        "    x_t1 = np.expand_dims(x_t, axis=0)\n",
        "    x_t2 = preprocess_input(x_t1)\n",
        "    feature_t = model.predict(x_t2)\n",
        "    flat_t = feature_t.flatten()\n",
        "    features_test.append(flat_t)"
      ],
      "execution_count": 0,
      "outputs": [
        {
          "output_type": "stream",
          "text": [
            "/usr/local/lib/python3.6/dist-packages/scipy/misc/pilutil.py:482: FutureWarning: Conversion of the second argument of issubdtype from `int` to `np.signedinteger` is deprecated. In future, it will be treated as `np.int64 == np.dtype(int).type`.\n",
            "  if issubdtype(ts, int):\n",
            "/usr/local/lib/python3.6/dist-packages/scipy/misc/pilutil.py:485: FutureWarning: Conversion of the second argument of issubdtype from `float` to `np.floating` is deprecated. In future, it will be treated as `np.float64 == np.dtype(float).type`.\n",
            "  elif issubdtype(type(size), float):\n"
          ],
          "name": "stderr"
        }
      ]
    },
    {
      "metadata": {
        "id": "r-PgdrZ_PUoh",
        "colab_type": "code",
        "colab": {}
      },
      "cell_type": "code",
      "source": [
        "with h5py.File('/content/drive/My Drive/devnagari/dataset_test1.hdf5', 'w') as hdf5_file:\n",
        "\n",
        "     hdf5_file.create_dataset('dataset_test1', data=np.array(features_test))"
      ],
      "execution_count": 0,
      "outputs": []
    },
    {
      "metadata": {
        "id": "x13-5tYa4Jjn",
        "colab_type": "code",
        "colab": {}
      },
      "cell_type": "code",
      "source": [
        "with h5py.File('/content/drive/My Drive/devnagari/dataset_train1.hdf5', 'r') as hdf5_file:\n",
        "     c = hdf5_file['dataset_1']\n",
        "     c1 = c[:]\n",
        "     "
      ],
      "execution_count": 0,
      "outputs": []
    },
    {
      "metadata": {
        "id": "YqZfV-_kLkOb",
        "colab_type": "code",
        "colab": {}
      },
      "cell_type": "code",
      "source": [
        "with h5py.File('/content/drive/My Drive/devnagari/dataset_test1.hdf5', 'r') as hdf5_file:\n",
        "     d = hdf5_file['dataset_test1']\n",
        "     d1 = d[:]"
      ],
      "execution_count": 0,
      "outputs": []
    },
    {
      "metadata": {
        "id": "t_eTMS-LbtsK",
        "colab_type": "code",
        "colab": {}
      },
      "cell_type": "code",
      "source": [
        "c2 = c1[2:78202]"
      ],
      "execution_count": 0,
      "outputs": []
    },
    {
      "metadata": {
        "id": "UpLDVeyjHswo",
        "colab_type": "code",
        "colab": {}
      },
      "cell_type": "code",
      "source": [
        "c3 = c2.flatten()"
      ],
      "execution_count": 0,
      "outputs": []
    },
    {
      "metadata": {
        "id": "cLwVHHG_IfFg",
        "colab_type": "code",
        "colab": {}
      },
      "cell_type": "code",
      "source": [
        "c4 = y_train.flatten()"
      ],
      "execution_count": 0,
      "outputs": []
    },
    {
      "metadata": {
        "id": "ZNrKdHgKR5EL",
        "colab_type": "code",
        "outputId": "855d976f-ea58-40a5-be6d-3a6794fabeb7",
        "colab": {
          "base_uri": "https://localhost:8080/",
          "height": 34
        }
      },
      "cell_type": "code",
      "source": [
        ""
      ],
      "execution_count": 0,
      "outputs": [
        {
          "output_type": "execute_result",
          "data": {
            "text/plain": [
              "numpy.ndarray"
            ]
          },
          "metadata": {
            "tags": []
          },
          "execution_count": 10
        }
      ]
    },
    {
      "metadata": {
        "id": "r77QpVwhJvN4",
        "colab_type": "code",
        "colab": {}
      },
      "cell_type": "code",
      "source": [
        "from sklearn import preprocessing\n",
        "X_normalized = preprocessing.normalize(c2, norm='l2')"
      ],
      "execution_count": 0,
      "outputs": []
    },
    {
      "metadata": {
        "id": "l1lu7KxbScoM",
        "colab_type": "code",
        "colab": {}
      },
      "cell_type": "code",
      "source": [
        "from scipy.sparse import csr_matrix\n",
        "sparse_dataset = csr_matrix(X_normalized)"
      ],
      "execution_count": 0,
      "outputs": []
    },
    {
      "metadata": {
        "id": "IE9oc--S6oV-",
        "colab_type": "code",
        "colab": {}
      },
      "cell_type": "code",
      "source": [
        "from sklearn.linear_model import LogisticRegression\n",
        "lr = LogisticRegression().fit(X_normalized, c4)\n"
      ],
      "execution_count": 0,
      "outputs": []
    },
    {
      "metadata": {
        "id": "a03v_GOPbkUI",
        "colab_type": "code",
        "outputId": "df71ec90-ccaf-49a3-8e32-bdb9389d4c5d",
        "colab": {
          "base_uri": "https://localhost:8080/",
          "height": 34
        }
      },
      "cell_type": "code",
      "source": [
        ""
      ],
      "execution_count": 0,
      "outputs": [
        {
          "output_type": "execute_result",
          "data": {
            "text/plain": [
              "numpy.ndarray"
            ]
          },
          "metadata": {
            "tags": []
          },
          "execution_count": 6
        }
      ]
    },
    {
      "metadata": {
        "id": "AuEoTY6c6rHE",
        "colab_type": "code",
        "colab": {}
      },
      "cell_type": "code",
      "source": [
        "from sklearn.metrics import confusion_matrix, accuracy_score\n",
        "lr_predicted = lr.predict(d1)\n",
        "a_c = accuracy_score(y_test, lr_predicted)"
      ],
      "execution_count": 0,
      "outputs": []
    },
    {
      "metadata": {
        "id": "yRxqAcujW9W2",
        "colab_type": "code",
        "outputId": "5a7081b6-c158-4ac0-9dfa-52e689a90db8",
        "colab": {
          "base_uri": "https://localhost:8080/",
          "height": 34
        }
      },
      "cell_type": "code",
      "source": [
        "a_c"
      ],
      "execution_count": 0,
      "outputs": [
        {
          "output_type": "execute_result",
          "data": {
            "text/plain": [
              "0.6543478260869565"
            ]
          },
          "metadata": {
            "tags": []
          },
          "execution_count": 19
        }
      ]
    },
    {
      "metadata": {
        "id": "MMcYU2zwXN24",
        "colab_type": "code",
        "colab": {}
      },
      "cell_type": "code",
      "source": [
        ""
      ],
      "execution_count": 0,
      "outputs": []
    }
  ]
}