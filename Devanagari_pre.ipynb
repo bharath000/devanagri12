{
 "cells": [
  {
   "cell_type": "code",
   "execution_count": 7,
   "metadata": {
    "collapsed": true
   },
   "outputs": [],
   "source": [
    "\"\"\"\n",
    "Extracting all the addresss of Train data from its directive\n",
    "\"\"\"\n",
    "import glob\n",
    "# all the tain data paths are stored in the address varibale\n",
    "address = glob.glob('D:/AML/DevanagariHandwrittenCharacterDataset/Train/*/*.png')"
   ]
  },
  {
   "cell_type": "code",
   "execution_count": 8,
   "metadata": {
    "collapsed": true
   },
   "outputs": [],
   "source": [
    "label = []  #declaring empty list for storing labels-Train\n",
    "import re    \n",
    "for i in range(len(address)):\n",
    "    number = re.findall('_+\\d+', address[i]) # with radix extrating labels from address\n",
    "    label.append(int(number[0][1:3])) # storing labels\n",
    "    #number1 = re.findall('_+\\d+', addre)"
   ]
  },
  {
   "cell_type": "code",
   "execution_count": 9,
   "metadata": {
    "collapsed": true
   },
   "outputs": [],
   "source": [
    "\"\"\"\n",
    "Extracting all the addresss of Test data from its directive\n",
    "\"\"\"\n",
    "import glob\n",
    "# all the test data paths are stored in the address_test varibale\n",
    "address_test = glob.glob('D:/AML/DevanagariHandwrittenCharacterDataset/Test/*/*.png')"
   ]
  },
  {
   "cell_type": "code",
   "execution_count": 10,
   "metadata": {
    "collapsed": true
   },
   "outputs": [],
   "source": [
    "label_test = [] #declaring empty list for storing labels-Test\n",
    "import re\n",
    "for i in range(len(address_test)):\n",
    "    number = re.findall('_+\\d+', address_test[i])  # with radix extrating labels from address\n",
    "    label_test.append(int(number[0][1:3])) # storing labels"
   ]
  },
  {
   "cell_type": "code",
   "execution_count": 19,
   "metadata": {},
   "outputs": [
    {
     "data": {
      "text/plain": [
       "13800"
      ]
     },
     "execution_count": 19,
     "metadata": {},
     "output_type": "execute_result"
    }
   ],
   "source": [
    "len(address_test)"
   ]
  },
  {
   "cell_type": "code",
   "execution_count": 12,
   "metadata": {
    "collapsed": true
   },
   "outputs": [],
   "source": [
    "\"\"\"\n",
    "Importing image processing lib\n",
    "\"\"\"\n",
    "import cv2\n"
   ]
  },
  {
   "cell_type": "code",
   "execution_count": 5,
   "metadata": {
    "collapsed": true
   },
   "outputs": [],
   "source": [
    "image = cv2.imread(a) # testing cv2 working"
   ]
  },
  {
   "cell_type": "code",
   "execution_count": 13,
   "metadata": {},
   "outputs": [
    {
     "data": {
      "text/plain": [
       "(32, 32, 3)"
      ]
     },
     "execution_count": 13,
     "metadata": {},
     "output_type": "execute_result"
    }
   ],
   "source": [
    "image.shape"
   ]
  },
  {
   "cell_type": "code",
   "execution_count": 14,
   "metadata": {
    "collapsed": true
   },
   "outputs": [],
   "source": [
    "\"\"\"\n",
    "Importing h5py lib for storing images in hdf5 file format\n",
    "\"\"\"\n",
    "import h5py \n"
   ]
  },
  {
   "cell_type": "code",
   "execution_count": 24,
   "metadata": {
    "collapsed": true
   },
   "outputs": [],
   "source": [
    "\"\"\"\n",
    "Storing the Train data into dataset.hdf5 file\n",
    "\"\"\"\n",
    "hdf5_path = 'D:/AML/dataset.hdf5' # declaring path to store hdf5-file of test images\n",
    "with h5py.File(hdf5_path, 'w') as hdf5_file: # setting h5py in write mode to above path\n",
    "    for i in range(len(address)):\n",
    "        ad = address[i]                # assign address of train data to ad\n",
    "        image = cv2.imread(ad)          # reading the in the address\n",
    "        image = cv2.resize(image, (32, 32), interpolation=cv2.INTER_CUBIC) # resizing the image\n",
    "        X_train = hdf5_file.create_dataset(         # Writing the img into hdf5 file with gzip compression\n",
    "                name='X_train'+str(i),\n",
    "                data=image,                           # data type that need to write\n",
    "                shape=(32, 32, 3),                    # shape of img\n",
    "                maxshape=(32, 32, 3),              \n",
    "                compression=\"gzip\",                 #compression type\n",
    "                compression_opts=9)         \n",
    "        y_train = hdf5_file.create_dataset(          #Writing the respective label of img \n",
    "                name='y_train'+str(i),\n",
    "                data = label[i],\n",
    "                shape =(1,),\n",
    "                maxshape=(None,),\n",
    "                compression=\"gzip\",\n",
    "                compression_opts=9)"
   ]
  },
  {
   "cell_type": "code",
   "execution_count": 16,
   "metadata": {
    "collapsed": true
   },
   "outputs": [],
   "source": [
    "\"\"\"\n",
    "Similarly store the Test data into datasettest.hdf5 file\n",
    "\"\"\"\n",
    "hdf5_path = 'D:/AML/datasettest.hdf5'\n",
    "with h5py.File(hdf5_path, 'w') as hdf5_file:\n",
    "    for i in range(len(address_test)):\n",
    "        ad = address_test[i]\n",
    "        image = cv2.imread(ad)\n",
    "        image = cv2.resize(image, (32, 32), interpolation=cv2.INTER_CUBIC)\n",
    "        X_train = hdf5_file.create_dataset(\n",
    "                name='X_train'+str(i),\n",
    "                data=image,\n",
    "                shape=(32, 32, 3),\n",
    "                maxshape=(32, 32, 3),\n",
    "                compression=\"gzip\",\n",
    "                compression_opts=9)\n",
    "        y_train = hdf5_file.create_dataset(\n",
    "                name='y_train'+str(i),\n",
    "                data = label_test[i],\n",
    "                shape =(1,),\n",
    "                maxshape=(None,),\n",
    "                compression=\"gzip\",\n",
    "                compression_opts=9)"
   ]
  },
  {
   "cell_type": "code",
   "execution_count": 17,
   "metadata": {
    "collapsed": true
   },
   "outputs": [],
   "source": [
    "import matplotlib.pyplot as plt\n",
    "import matplotlib.pylab as plb"
   ]
  },
  {
   "cell_type": "code",
   "execution_count": 22,
   "metadata": {},
   "outputs": [
    {
     "name": "stdout",
     "output_type": "stream",
     "text": [
      "Using matplotlib backend: Qt5Agg\n",
      "[13]\n"
     ]
    }
   ],
   "source": [
    "%matplotlib \n",
    "with h5py.File(hdf5_path, 'r') as hdf5_file:\n",
    "    fu = plb.imshow(hdf5_file[\"X_train1000\"])\n",
    "    print(hdf5_file[\"y_train1000\"].value)"
   ]
  },
  {
   "cell_type": "code",
   "execution_count": 1,
   "metadata": {
    "collapsed": true
   },
   "outputs": [],
   "source": [
    "import h5py\n",
    "import numpy as np\n",
    "x_train = np.ndarray(shape=(78200,32,32,3))\n",
    "y_train = np.ndarray(shape=(78200,1))\n",
    "with h5py.File('D:/AML/dataset.hdf5', 'r') as hdf5_file:\n",
    "    for i in range(0,78200):\n",
    "        X_Train = hdf5_file['X_train'+str(i)]\n",
    "        x_train[i] = X_Train[:]\n",
    "        y_labels = hdf5_file['y_train'+str(i)]\n",
    "        y_train[i] = y_labels[:]"
   ]
  },
  {
   "cell_type": "code",
   "execution_count": 2,
   "metadata": {
    "collapsed": true
   },
   "outputs": [],
   "source": [
    "import h5py\n",
    "import numpy as np\n",
    "x_test = np.ndarray(shape=(13800,32,32,3))\n",
    "y_test = np.ndarray(shape=(13800,1))\n",
    "with h5py.File('D:/AML/datasettest.hdf5', 'r') as hdf5_file:\n",
    "    for i in range(0,13800):\n",
    "        X_Train = hdf5_file['X_train'+str(i)]\n",
    "        x_test[i] = X_Train[:]\n",
    "        y_labels = hdf5_file['y_train'+str(i)]\n",
    "        y_test[i] = y_labels[:]"
   ]
  },
  {
   "cell_type": "code",
   "execution_count": 7,
   "metadata": {},
   "outputs": [
    {
     "data": {
      "image/png": "[encoded data removed]",
      "text/plain": [
       "<matplotlib.figure.Figure at 0x203b0524160>"
      ]
     },
     "metadata": {},
     "output_type": "display_data"
    }
   ],
   "source": [
    "%matplotlib inline\n",
    "import matplotlib.pyplot as plt\n",
    "cols = 8\n",
    "rows = 1\n",
    "fig = plt.figure(figsize=(2 * cols - 1, 2.5 * rows - 1))\n",
    "for i in range(cols):\n",
    "    for j in range(rows):\n",
    "        random_index = np.random.randint(0, 13800)\n",
    "        ax = fig.add_subplot(rows, cols, i * rows + j + 1)\n",
    "        ax.grid('off')\n",
    "        ax.axis('off')\n",
    "        ax.imshow(x_test[random_index])\n",
    "        ax.set_title(y_test[random_index])\n",
    "plt.show()"
   ]
  },
  {
   "cell_type": "code",
   "execution_count": 6,
   "metadata": {},
   "outputs": [
    {
     "data": {
      "text/plain": [
       "(13800, 1)"
      ]
     },
     "execution_count": 6,
     "metadata": {},
     "output_type": "execute_result"
    }
   ],
   "source": [
    "y_test.shape"
   ]
  },
  {
   "cell_type": "code",
   "execution_count": null,
   "metadata": {},
   "outputs": [],
   "source": [
    "\n",
    "\n"
   ]
  },
  {
   "cell_type": "code",
   "execution_count": null,
   "metadata": {
    "collapsed": true
   },
   "outputs": [],
   "source": []
  },
  {
   "cell_type": "code",
   "execution_count": 34,
   "metadata": {
    "collapsed": true
   },
   "outputs": [],
   "source": []
  },
  {
   "cell_type": "code",
   "execution_count": null,
   "metadata": {},
   "outputs": [],
   "source": []
  },
  {
   "cell_type": "code",
   "execution_count": null,
   "metadata": {},
   "outputs": [],
   "source": []
  },
  {
   "cell_type": "code",
   "execution_count": null,
   "metadata": {
    "collapsed": true
   },
   "outputs": [],
   "source": []
  },
  {
   "cell_type": "code",
   "execution_count": null,
   "metadata": {
    "collapsed": true
   },
   "outputs": [],
   "source": []
  },
  {
   "cell_type": "code",
   "execution_count": null,
   "metadata": {
    "collapsed": true
   },
   "outputs": [],
   "source": []
  },
  {
   "cell_type": "code",
   "execution_count": null,
   "metadata": {
    "collapsed": true
   },
   "outputs": [],
   "source": []
  },
  {
   "cell_type": "code",
   "execution_count": null,
   "metadata": {
    "collapsed": true
   },
   "outputs": [],
   "source": []
  },
  {
   "cell_type": "code",
   "execution_count": null,
   "metadata": {
    "collapsed": true
   },
   "outputs": [],
   "source": []
  }
 ],
 "metadata": {
  "kernelspec": {
   "display_name": "Python 3",
   "language": "python",
   "name": "python3"
  },
  "language_info": {
   "codemirror_mode": {
    "name": "ipython",
    "version": 3
   },
   "file_extension": ".py",
   "mimetype": "text/x-python",
   "name": "python",
   "nbconvert_exporter": "python",
   "pygments_lexer": "ipython3",
   "version": "3.6.1"
  }
 },
 "nbformat": 4,
 "nbformat_minor": 2
}
